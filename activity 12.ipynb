{
 "cells": [
  {
   "cell_type": "code",
   "execution_count": 2,
   "id": "f4449e3e",
   "metadata": {},
   "outputs": [
    {
     "name": "stdout",
     "output_type": "stream",
     "text": [
      "Enter number 1: 12\n",
      "Enter number 2: 21\n",
      "Enter number 3: 153\n",
      "153 is an armstrong number\n"
     ]
    }
   ],
   "source": [
    "num1 = int(input(\"Enter number 1: \"))\n",
    "num2 = int(input(\"Enter number 2: \"))\n",
    "num3 = int(input(\"Enter number 3: \"))\n",
    "\n",
    "\n",
    "def largestof3():\n",
    "    if (num1 >= num2) and (num1 >= num3):\n",
    "        largest = num1\n",
    "\n",
    "    elif (num2 >= num1) and (num2 >= num3):\n",
    "        largest = num2\n",
    "\n",
    "    else:\n",
    "        largest = num3\n",
    "\n",
    "    return largest\n",
    "\n",
    "l = largestof3()\n",
    "\n",
    "def armstrong():\n",
    "    temp = l\n",
    "    sum1 = 0\n",
    "\n",
    "    while (temp != 0):\n",
    "        digit = temp % 10\n",
    "        sum1= sum1+digit**3\n",
    "        temp = temp // 10\n",
    "        \n",
    "    if l == sum1:\n",
    "        print(l,\"is an armstrong number\")\n",
    "    else:\n",
    "        print(l,\"is not an armstrong number\")\n",
    "        \n",
    "armstrong()"
   ]
  },
  {
   "cell_type": "code",
   "execution_count": null,
   "id": "df2ec910",
   "metadata": {},
   "outputs": [],
   "source": []
  }
 ],
 "metadata": {
  "kernelspec": {
   "display_name": "Python 3 (ipykernel)",
   "language": "python",
   "name": "python3"
  },
  "language_info": {
   "codemirror_mode": {
    "name": "ipython",
    "version": 3
   },
   "file_extension": ".py",
   "mimetype": "text/x-python",
   "name": "python",
   "nbconvert_exporter": "python",
   "pygments_lexer": "ipython3",
   "version": "3.9.12"
  }
 },
 "nbformat": 4,
 "nbformat_minor": 5
}
