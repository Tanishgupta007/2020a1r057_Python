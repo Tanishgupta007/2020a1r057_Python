{
 "cells": [
  {
   "cell_type": "markdown",
   "id": "03006aac",
   "metadata": {},
   "source": [
    "# Using isalpha() + len()\n",
    "\n"
   ]
  },
  {
   "cell_type": "code",
   "execution_count": 8,
   "id": "6e50747d",
   "metadata": {},
   "outputs": [
    {
     "name": "stdout",
     "output_type": "stream",
     "text": [
      "The original string is :  My name is Tanish Gupta\n",
      "Count of Alphabets :  19\n"
     ]
    }
   ],
   "source": [
    "test_str=\"My name is Tanish Gupta\"\n",
    "\n",
    "print(\"The original string is : \",  str(test_str))\n",
    "res = len([ele for ele in test_str if ele.isalpha()])\n",
    "\n",
    "# printing result\n",
    "print(\"Count of Alphabets : \",  str(res))"
   ]
  },
  {
   "cell_type": "markdown",
   "id": "dcdc130b",
   "metadata": {},
   "source": [
    "# ascii_uppercase() + ascii_lowercase() + len()"
   ]
  },
  {
   "cell_type": "code",
   "execution_count": 17,
   "id": "7054d6da",
   "metadata": {},
   "outputs": [
    {
     "name": "stdout",
     "output_type": "stream",
     "text": [
      "The original string is :  My name is Tanish Gupta\n",
      "Count of Alphabets :  19\n"
     ]
    }
   ],
   "source": [
    "import string\n",
    "\n",
    "test_str=\"My name is Tanish Gupta\"\n",
    "print(\"The original string is : \",  str(test_str))\n",
    "\n",
    "res=len([ele for ele in test_str if ele in string.ascii_uppercase or ele in string.ascii_lowercase])\n",
    "# printing result\n",
    "print(\"Count of Alphabets : \" , str(res))"
   ]
  },
  {
   "cell_type": "markdown",
   "id": "324b37ae",
   "metadata": {},
   "source": [
    "# Using join() + list"
   ]
  },
  {
   "cell_type": "code",
   "execution_count": 22,
   "id": "9ff74747",
   "metadata": {},
   "outputs": [
    {
     "name": "stdout",
     "output_type": "stream",
     "text": [
      "The original list is : ['My', 'Name', 'is', 'Tanish', 'Gupta']\n",
      "Range characters :  Gupta\n"
     ]
    }
   ],
   "source": [
    "test_list = [\"My\",\"Name\",\"is\",\"Tanish\",\"Gupta\"]\n",
    "\n",
    "print(\"The original list is :\", str(test_list))\n",
    "\n",
    "strt, end = 14, 30\n",
    "\n",
    "res = \"\".join([sub for sub in test_list])[strt : end]\n",
    "\n",
    "print(\"Range characters : \", str(res))"
   ]
  },
  {
   "cell_type": "markdown",
   "id": "304cfc30",
   "metadata": {},
   "source": [
    "# isalnum()"
   ]
  },
  {
   "cell_type": "code",
   "execution_count": 28,
   "id": "92ef2118",
   "metadata": {},
   "outputs": [
    {
     "name": "stdout",
     "output_type": "stream",
     "text": [
      "abc 123 is alphanumeric False\n",
      "abc_123 is alphanumeric False\n",
      "000 is alphanumeric True\n",
      "aaa is alphanumeric True\n"
     ]
    }
   ],
   "source": [
    "string = \"abc 123\"\n",
    "print(string, \"is alphanumeric\" , string.isalnum())\n",
    "string = \"abc_123\"\n",
    "print(string, \"is alphanumeric\" , string.isalnum())\n",
    "\n",
    "string = \"000\"\n",
    "print(string, \"is alphanumeric\" , string.isalnum())\n",
    "\n",
    "string = \"aaa\"\n",
    "print(string, \"is alphanumeric\" , string.isalnum())"
   ]
  },
  {
   "cell_type": "markdown",
   "id": "60729db5",
   "metadata": {},
   "source": [
    "# isalnum() in if else statement"
   ]
  },
  {
   "cell_type": "code",
   "execution_count": 33,
   "id": "11aa70bb",
   "metadata": {},
   "outputs": [
    {
     "name": "stdout",
     "output_type": "stream",
     "text": [
      "Password is alphanumeric.\n"
     ]
    }
   ],
   "source": [
    "password = \"user123456\"\n",
    "\n",
    "if password.isalnum():\n",
    "    print(\"Password is alphanumeric.\")\n",
    "else:\n",
    "    print(\"Password is not alphanumeric.\")"
   ]
  },
  {
   "cell_type": "code",
   "execution_count": null,
   "id": "36ec2d73",
   "metadata": {},
   "outputs": [],
   "source": []
  }
 ],
 "metadata": {
  "kernelspec": {
   "display_name": "Python 3 (ipykernel)",
   "language": "python",
   "name": "python3"
  },
  "language_info": {
   "codemirror_mode": {
    "name": "ipython",
    "version": 3
   },
   "file_extension": ".py",
   "mimetype": "text/x-python",
   "name": "python",
   "nbconvert_exporter": "python",
   "pygments_lexer": "ipython3",
   "version": "3.9.12"
  }
 },
 "nbformat": 4,
 "nbformat_minor": 5
}
