{
 "cells": [
  {
   "cell_type": "markdown",
   "id": "ed32e12f",
   "metadata": {},
   "source": [
    "# Simple Calculator using switch case and functions"
   ]
  },
  {
   "cell_type": "code",
   "execution_count": 1,
   "id": "163e21b1",
   "metadata": {},
   "outputs": [
    {
     "name": "stdout",
     "output_type": "stream",
     "text": [
      "You can perform operation\n",
      "1. Addition\n",
      "2. Subtraction\n",
      "3. Multiplication\n",
      "4. Division\n",
      " \n",
      "Enter first number: 14\n",
      "Enter second number: 23\n",
      "Select operation from 1,2,3,4 : 1\n",
      "37\n"
     ]
    }
   ],
   "source": [
    "def addition(num1, num2):\n",
    "  return num1+num2\n",
    "def subtraction(num1, num2):\n",
    "  return num1-num2\n",
    "def mul(num1, num2):\n",
    "  return num1*num2\n",
    "def division(num1, num2):\n",
    "  return num1/num2\n",
    "\n",
    "def error(num1,num2):\n",
    "  return \"Enter Correct operator\"\n",
    "\n",
    "switcher = {\n",
    "    1: addition,\n",
    "    2: subtraction,\n",
    "    3: mul,\n",
    "    4: division,\n",
    "}\n",
    "def switch(operation , num1, num2):\n",
    "  return switcher.get(operation, error)(num1, num2)\n",
    "\n",
    "print('''You can perform operation\n",
    "1. Addition\n",
    "2. Subtraction\n",
    "3. Multiplication\n",
    "4. Division\n",
    " ''')\n",
    "\n",
    "num1 = int(input(\"Enter first number: \"))\n",
    "num2 = int(input(\"Enter second number: \"))\n",
    "choice = int(input(\"Select operation from 1,2,3,4 : \"))\n",
    "\n",
    "print (switch(choice, num1, num2))"
   ]
  },
  {
   "cell_type": "code",
   "execution_count": null,
   "id": "0646c27d",
   "metadata": {},
   "outputs": [],
   "source": []
  }
 ],
 "metadata": {
  "kernelspec": {
   "display_name": "Python 3 (ipykernel)",
   "language": "python",
   "name": "python3"
  },
  "language_info": {
   "codemirror_mode": {
    "name": "ipython",
    "version": 3
   },
   "file_extension": ".py",
   "mimetype": "text/x-python",
   "name": "python",
   "nbconvert_exporter": "python",
   "pygments_lexer": "ipython3",
   "version": "3.9.12"
  }
 },
 "nbformat": 4,
 "nbformat_minor": 5
}
