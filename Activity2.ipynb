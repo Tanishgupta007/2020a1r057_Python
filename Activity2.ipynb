{
 "cells": [
  {
   "cell_type": "code",
   "execution_count": 1,
   "id": "1775d0ed",
   "metadata": {
    "scrolled": true
   },
   "outputs": [
    {
     "name": "stdout",
     "output_type": "stream",
     "text": [
      "1\n",
      "3\n",
      "5\n",
      "7\n",
      "9\n"
     ]
    }
   ],
   "source": [
    "#using For Loop\n",
    "\n",
    "list = [1,3,5,7,9]\n",
    "\n",
    "for i in list:\n",
    "    print(i)\n",
    "    "
   ]
  },
  {
   "cell_type": "code",
   "execution_count": 2,
   "id": "673a824e",
   "metadata": {},
   "outputs": [
    {
     "name": "stdout",
     "output_type": "stream",
     "text": [
      "1\n",
      "3\n",
      "5\n",
      "7\n",
      "9\n"
     ]
    }
   ],
   "source": [
    "# For loop and range()\n",
    "\n",
    "list = [1, 3, 5, 7, 9]\n",
    "\n",
    "length = len(list)\n",
    "\n",
    "for i in range(length):\n",
    "    print(list[i])\n"
   ]
  },
  {
   "cell_type": "code",
   "execution_count": 3,
   "id": "0cb1cb5e",
   "metadata": {},
   "outputs": [
    {
     "name": "stdout",
     "output_type": "stream",
     "text": [
      "1\n",
      "3\n",
      "5\n",
      "7\n",
      "9\n"
     ]
    }
   ],
   "source": [
    "# While loop\n",
    "\n",
    "list = [1,3,5,7,9]\n",
    "\n",
    "length = len(list)\n",
    "i = 0\n",
    "\n",
    "while i < length:\n",
    "    print(list[i])\n",
    "    i = i+1"
   ]
  },
  {
   "cell_type": "code",
   "execution_count": 4,
   "id": "e2238d86",
   "metadata": {},
   "outputs": [
    {
     "name": "stdout",
     "output_type": "stream",
     "text": [
      "dict_keys(['Gujarat', 'Maharashtra', 'Rajasthan', 'Bihar'])\n"
     ]
    }
   ],
   "source": [
    "# Access Keys using build .keys()\n",
    "\n",
    "statesAndCapitals = {\n",
    "    \"Gujarat\" : \"Gandhinagar\",\n",
    "    \"Maharashtra\" : \"Mumbai\",\n",
    "    \"Rajasthan\" : \"Jaipur\",\n",
    "    \"Bihar\": \"Patna\"\n",
    "}\n",
    "\n",
    "keys = statesAndCapitals.keys()\n",
    "print(keys)"
   ]
  },
  {
   "cell_type": "code",
   "execution_count": 5,
   "id": "abd027e6",
   "metadata": {},
   "outputs": [
    {
     "name": "stdout",
     "output_type": "stream",
     "text": [
      "List of given states\n",
      "\n",
      "Gujarat\n",
      "Maharashtra\n",
      "Rajasthan\n",
      "Bihar\n"
     ]
    }
   ],
   "source": [
    "# Access Keys using without using a key()\n",
    "\n",
    "\n",
    "statesAndCapitals = {\n",
    "    \"Gujarat\" : \"Gandhinagar\",\n",
    "    \"Maharashtra\" : \"Mumbai\",\n",
    "    \"Rajasthan\" : \"Jaipur\",\n",
    "    \"Bihar\": \"Patna\"\n",
    "}\n",
    "\n",
    "print(\"List of given states\\n\")\n",
    "\n",
    "for state in statesAndCapitals:\n",
    "    print(state)\n",
    "    "
   ]
  },
  {
   "cell_type": "code",
   "execution_count": 10,
   "id": "47e94313",
   "metadata": {},
   "outputs": [
    {
     "name": "stdout",
     "output_type": "stream",
     "text": [
      "List of given capitals\n",
      "\n",
      "Gandhinagar\n",
      "Mumbai\n",
      "Jaipur\n",
      "Patna\n"
     ]
    }
   ],
   "source": [
    "# Iterate through all values using .values()\n",
    "statesAndCapitals = {\n",
    "    \"Gujarat\" : \"Gandhinagar\",\n",
    "    \"Maharashtra\" : \"Mumbai\",\n",
    "    \"Rajasthan\" : \"Jaipur\",\n",
    "    \"Bihar\": \"Patna\"\n",
    "}\n",
    "\n",
    "print(\"List of given capitals\\n\")\n",
    "\n",
    "for capital in statesAndCapitals.values():\n",
    "    print(capital)\n",
    "    "
   ]
  },
  {
   "cell_type": "code",
   "execution_count": 14,
   "id": "ae9d7c87",
   "metadata": {},
   "outputs": [
    {
     "name": "stdout",
     "output_type": "stream",
     "text": [
      "List of given states and their capitals\n",
      "\n",
      "Gujarat : Gandhinagar\n",
      "Maharashtra : Mumbai\n",
      "Rajasthan : Jaipur\n",
      "Bihar : Patna\n"
     ]
    }
   ],
   "source": [
    "#Python code to iterate through all key, value\n",
    "statesAndCapitals = {\n",
    "    \"Gujarat\" : \"Gandhinagar\",\n",
    "    \"Maharashtra\" : \"Mumbai\",\n",
    "    \"Rajasthan\" : \"Jaipur\",\n",
    "    \"Bihar\": \"Patna\"\n",
    "}\n",
    "\n",
    "print(\"List of given states and their capitals\\n\")\n",
    "for state, capital in statesAndCapitals.items():\n",
    "    print(state ,\":\",capital)"
   ]
  },
  {
   "cell_type": "code",
   "execution_count": 15,
   "id": "b12e7a61",
   "metadata": {},
   "outputs": [
    {
     "name": "stdout",
     "output_type": "stream",
     "text": [
      "List of given states and their capitals\n",
      "\n",
      "Gujarat -> Gandhinagar\n",
      "Maharashtra -> Mumbai\n",
      "Rajasthan -> Jaipur\n",
      "Bihar -> Patna\n"
     ]
    }
   ],
   "source": [
    "#Access both key and value without using items()\n",
    "statesAndCapitals = {\n",
    "    \"Gujarat\" : \"Gandhinagar\",\n",
    "    \"Maharashtra\" : \"Mumbai\",\n",
    "    \"Rajasthan\" : \"Jaipur\",\n",
    "    \"Bihar\": \"Patna\"\n",
    "}\n",
    "\n",
    "print(\"List of given states and their capitals\\n\")\n",
    "\n",
    "for i in statesAndCapitals:\n",
    "    print(i ,'->', statesAndCapitals[i])"
   ]
  },
  {
   "cell_type": "code",
   "execution_count": 16,
   "id": "5e4247b1",
   "metadata": {},
   "outputs": [
    {
     "name": "stdout",
     "output_type": "stream",
     "text": [
      "dict_items([('Gujarat', 'Gandhinagar'), ('Maharashtra', 'Mumbai'), ('Rajasthan', 'Jaipur'), ('Bihar', 'Patna')])\n"
     ]
    }
   ],
   "source": [
    "#Python code to iterate through all values in a dictionary\n",
    "statesAndCapitals = {\n",
    "    \"Gujarat\" : \"Gandhinagar\",\n",
    "    \"Maharashtra\" : \"Mumbai\",\n",
    "    \"Rajasthan\" : \"Jaipur\",\n",
    "    \"Bihar\": \"Patna\"\n",
    "}\n",
    "\n",
    "keys = statesAndCapitals.items()\n",
    "\n",
    "print(keys)"
   ]
  },
  {
   "cell_type": "code",
   "execution_count": null,
   "id": "93ce5aa7",
   "metadata": {},
   "outputs": [],
   "source": []
  }
 ],
 "metadata": {
  "kernelspec": {
   "display_name": "Python 3 (ipykernel)",
   "language": "python",
   "name": "python3"
  },
  "language_info": {
   "codemirror_mode": {
    "name": "ipython",
    "version": 3
   },
   "file_extension": ".py",
   "mimetype": "text/x-python",
   "name": "python",
   "nbconvert_exporter": "python",
   "pygments_lexer": "ipython3",
   "version": "3.10.7"
  }
 },
 "nbformat": 4,
 "nbformat_minor": 5
}
