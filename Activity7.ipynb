{
 "cells": [
  {
   "cell_type": "code",
   "execution_count": 4,
   "id": "1927a489",
   "metadata": {},
   "outputs": [
    {
     "name": "stdout",
     "output_type": "stream",
     "text": [
      "Name:Tanish gupta\n",
      "Roll no:1\n",
      "Email Id:tanishm2222@gmail.com\n",
      "Gender:male\n",
      "DOB:05/04/2003\n",
      "City:Jammu\n",
      "Semester:5th\n",
      "Section:A1\n",
      "Phone No.:1234567890\n"
     ]
    }
   ],
   "source": [
    "database = [(\"Tanish gupta\", 1, \"tanishm2222@gmail.com\",'male','05/04/2003','Jammu','5th','A1',1234567890)]\n",
    "\n",
    "def quering():\n",
    "    for idx,element in enumerate(database):\n",
    "        print(f\"Name:{database[idx][0]}\")\n",
    "        print(f\"Roll no:{database[idx][1]}\")\n",
    "        print(f\"Email Id:{database[idx][2]}\")\n",
    "        print(f\"Gender:{database[idx][3]}\")\n",
    "        print(f\"DOB:{database[idx][4]}\")\n",
    "        print(f\"City:{database[idx][5]}\")\n",
    "        print(f\"Semester:{database[idx][6]}\")\n",
    "        print(f\"Section:{database[idx][7]}\")\n",
    "        print(f\"Phone No.:{database[idx][8]}\")\n",
    "        \n",
    "quering()"
   ]
  },
  {
   "cell_type": "code",
   "execution_count": null,
   "id": "e2874859",
   "metadata": {},
   "outputs": [],
   "source": []
  }
 ],
 "metadata": {
  "kernelspec": {
   "display_name": "Python 3 (ipykernel)",
   "language": "python",
   "name": "python3"
  },
  "language_info": {
   "codemirror_mode": {
    "name": "ipython",
    "version": 3
   },
   "file_extension": ".py",
   "mimetype": "text/x-python",
   "name": "python",
   "nbconvert_exporter": "python",
   "pygments_lexer": "ipython3",
   "version": "3.9.12"
  }
 },
 "nbformat": 4,
 "nbformat_minor": 5
}
