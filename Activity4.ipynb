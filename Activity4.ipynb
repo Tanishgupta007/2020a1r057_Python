{
 "cells": [
  {
   "cell_type": "markdown",
   "id": "47e09657",
   "metadata": {},
   "source": [
    "# LINEAR SEARCH"
   ]
  },
  {
   "cell_type": "code",
   "execution_count": 1,
   "id": "8641d600",
   "metadata": {},
   "outputs": [
    {
     "name": "stdout",
     "output_type": "stream",
     "text": [
      "Found at index  2\n"
     ]
    }
   ],
   "source": [
    "def linear_Search(list1,n,key):\n",
    "    for i in range(0,n):\n",
    "        if(list1[i] == key):\n",
    "            return i\n",
    "    return i\n",
    "list1 = [1,3,5,7,9]\n",
    "key = 5\n",
    "n = len(list1)\n",
    "res = linear_Search(list1,n,key)\n",
    "\n",
    "if(res == -1):\n",
    "    print(\"Element not found\")\n",
    "else:\n",
    "    print(\"Found at index \", res)"
   ]
  },
  {
   "cell_type": "markdown",
   "id": "5912187c",
   "metadata": {},
   "source": [
    "# ITERATIVE BINARY SEARCH"
   ]
  },
  {
   "cell_type": "code",
   "execution_count": 2,
   "id": "394bf30e",
   "metadata": {},
   "outputs": [
    {
     "name": "stdout",
     "output_type": "stream",
     "text": [
      "Element found at index:  3\n"
     ]
    }
   ],
   "source": [
    "def binary_Search(list1,n):\n",
    "    low = 0\n",
    "    mid = 0\n",
    "    high = len(list1) - 1\n",
    "    \n",
    "    while low <= high:\n",
    "        mid = (high + low)//2\n",
    "    \n",
    "        if list1[mid] < n:\n",
    "            low = mid+1\n",
    "        elif list1[mid] > n:\n",
    "            high = mid - 1\n",
    "\n",
    "        else:\n",
    "            return mid\n",
    "    return -1\n",
    "list1 = [1,2,3,4,5,6]\n",
    "n = 4\n",
    "\n",
    "res = binary_Search(list1,n)\n",
    "\n",
    "if res != -1:\n",
    "    print(\"Element found at index:\",str(res))\n",
    "else:\n",
    "    print(\"Element not found\")"
   ]
  },
  {
   "cell_type": "markdown",
   "id": "89d15769",
   "metadata": {},
   "source": [
    "# Recursive Binary Search"
   ]
  },
  {
   "cell_type": "code",
   "execution_count": 3,
   "id": "7f299da2",
   "metadata": {},
   "outputs": [
    {
     "name": "stdout",
     "output_type": "stream",
     "text": [
      "Element is present at index 0\n"
     ]
    }
   ],
   "source": [
    "def binary_search(list1, low, high, x):\n",
    "    if high >= low:\n",
    "        mid = (high + low) // 2\n",
    "        if list1[mid] == x:\n",
    "            return mid\n",
    "        elif list1[mid] > x:\n",
    "            return binary_search(list1, low, mid - 1, x)\n",
    "        else:\n",
    "            return binary_search(list1, mid + 1, high, x)\n",
    "    else:\n",
    "        return -1\n",
    "\n",
    "list1 = [2, 3, 4, 10, 40]\n",
    "x = 2\n",
    "result = binary_search(list1, 0, len(list1)-1, x)\n",
    "\n",
    "if result != -1:\n",
    "    print(\"Element is present at index\", str(result))\n",
    "else:\n",
    "    print(\"Element is not present in list\")"
   ]
  }
 ],
 "metadata": {
  "kernelspec": {
   "display_name": "Python 3 (ipykernel)",
   "language": "python",
   "name": "python3"
  },
  "language_info": {
   "codemirror_mode": {
    "name": "ipython",
    "version": 3
   },
   "file_extension": ".py",
   "mimetype": "text/x-python",
   "name": "python",
   "nbconvert_exporter": "python",
   "pygments_lexer": "ipython3",
   "version": "3.9.12"
  }
 },
 "nbformat": 4,
 "nbformat_minor": 5
}
