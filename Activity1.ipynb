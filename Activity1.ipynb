{
 "cells": [
  {
   "cell_type": "code",
   "execution_count": 1,
   "id": "dde2d6b2",
   "metadata": {},
   "outputs": [
    {
     "name": "stdout",
     "output_type": "stream",
     "text": [
      "20.3\n"
     ]
    }
   ],
   "source": [
    "# Get absolute value of a number\n",
    "\n",
    "number =-20.3\n",
    "\n",
    "absolute_num = abs(number)\n",
    "\n",
    "print(absolute_num) "
   ]
  },
  {
   "cell_type": "code",
   "execution_count": 2,
   "id": "187cc561",
   "metadata": {},
   "outputs": [
    {
     "name": "stdout",
     "output_type": "stream",
     "text": [
      "length of (1, 2, 3) is 3\n",
      "length of [1, 2, 3] is 3\n",
      "length of range(1, 10) is 9\n",
      "length of  is 0\n",
      "length of Python is 6\n",
      "length of b'Python' is 6\n",
      "length of b'\\x01\\x02\\x03' is 3\n",
      "length of {1, 2, 3, 4} is 4\n",
      "length of set() is 0\n",
      "length of {1: 'one', 2: 'two', 3: 'three'} is 3\n",
      "length of {} is 0\n"
     ]
    }
   ],
   "source": [
    "#len\n",
    "\n",
    "# Tuple    \n",
    "test_tuple = (1, 2, 3)\n",
    "print('length of', test_tuple,'is', len(test_tuple))\n",
    "\n",
    "# List    \n",
    "test_list = [1, 2, 3]\n",
    "print('length of', test_list,'is', len(test_list))\n",
    "\n",
    "# Range    \n",
    "test_range = range(1,10)\n",
    "print('length of', test_range,'is', len(test_range))\n",
    "\n",
    "# String\n",
    "test_string = \"\"    \n",
    "print('length of', test_string,'is', len(test_string))\n",
    "\n",
    "test_string = \"Python\"    \n",
    "print('length of', test_string,'is', len(test_string))\n",
    "\n",
    "# Byte Object\n",
    "\n",
    "test_string = b\"Python\"    \n",
    "print('length of', test_string,'is', len(test_string))\n",
    "\n",
    "\n",
    "test_list = [1, 2, 3]\n",
    "test_byte = bytes(test_list)\n",
    "print('length of', test_byte,'is', len(test_byte))\n",
    "\n",
    "\n",
    "# Set\n",
    "\n",
    "test_set = {1,2,3,4}\n",
    "print('length of', test_set,'is', len(test_set))\n",
    "\n",
    "test_set = set()\n",
    "print('length of', test_set,'is', len(test_set))\n",
    "\n",
    "# Dict\n",
    "\n",
    "test_dict = {1:'one' , 2:'two' , 3:'three'}\n",
    "print('length of', test_dict,'is', len(test_dict))\n",
    "\n",
    "test_dict = {}\n",
    "print('length of', test_dict,'is', len(test_dict))"
   ]
  },
  {
   "cell_type": "code",
   "execution_count": 4,
   "id": "bd5a1dc7",
   "metadata": {},
   "outputs": [
    {
     "name": "stdout",
     "output_type": "stream",
     "text": [
      "The Smallest Number in the list  [3, 4, 5, 2, 65, 32, 22]  is  2\n",
      "The Smallest string in the list  ['Tanish', 'gupta', 'pythonLab']  is  gupta\n"
     ]
    }
   ],
   "source": [
    "# the smallest item in a list\n",
    "\n",
    "number = [3,4,5,2,65,32,22]\n",
    "\n",
    "min_number = min(number)\n",
    "\n",
    "print(\"The Smallest Number in the list \",number,\" is \" ,min_number)\n",
    "\n",
    "# the smallest string in a list\n",
    "string = ['Tanish' , 'gupta', 'pythonLab']\n",
    "min_str = min(string , key=len)\n",
    "print(\"The Smallest string in the list \",string,\" is \" ,min_str)"
   ]
  },
  {
   "cell_type": "code",
   "execution_count": 5,
   "id": "96c0047d",
   "metadata": {},
   "outputs": [
    {
     "name": "stdout",
     "output_type": "stream",
     "text": [
      "5\n",
      "5\n",
      "6\n",
      "6\n",
      "2.68\n",
      "5.68\n",
      "5.86\n"
     ]
    }
   ],
   "source": [
    "# round function\n",
    "\n",
    "# integer\n",
    "print(round(5))\n",
    "\n",
    "# float\n",
    "print(round(5.3))\n",
    "print(round(5.6))\n",
    "print(round(5.8))\n",
    "\n",
    "\n",
    "print(round(2.676 , 2))\n",
    "print(round(5.676 , 2))\n",
    "print(round(5.856 , 2))\n"
   ]
  },
  {
   "cell_type": "code",
   "execution_count": 6,
   "id": "ede6dfcc",
   "metadata": {},
   "outputs": [
    {
     "name": "stdout",
     "output_type": "stream",
     "text": [
      "True\n",
      "False\n",
      "False\n"
     ]
    }
   ],
   "source": [
    "# string\n",
    "name1 = \"Tanish\"\n",
    "print(name1.isalnum())\n",
    "\n",
    "# string with whitespace\n",
    "name1 = \" Tanish \"\n",
    "print(name1.isalnum())\n",
    "\n",
    "# contains non alpha numeric characters\n",
    "name1 = \"@Tanish!\"\n",
    "print(name1.isalnum())"
   ]
  },
  {
   "cell_type": "code",
   "execution_count": null,
   "id": "1a4a4fa8",
   "metadata": {},
   "outputs": [],
   "source": []
  }
 ],
 "metadata": {
  "kernelspec": {
   "display_name": "Python 3 (ipykernel)",
   "language": "python",
   "name": "python3"
  },
  "language_info": {
   "codemirror_mode": {
    "name": "ipython",
    "version": 3
   },
   "file_extension": ".py",
   "mimetype": "text/x-python",
   "name": "python",
   "nbconvert_exporter": "python",
   "pygments_lexer": "ipython3",
   "version": "3.10.7"
  }
 },
 "nbformat": 4,
 "nbformat_minor": 5
}
