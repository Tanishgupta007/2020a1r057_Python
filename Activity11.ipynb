{
 "cells": [
  {
   "cell_type": "code",
   "execution_count": 3,
   "id": "b3277327",
   "metadata": {},
   "outputs": [
    {
     "name": "stdout",
     "output_type": "stream",
     "text": [
      "Enter side1: 2\n",
      "Enter side2: 3\n",
      "Enter side3: 4\n",
      "It is not rt angle triangle\n",
      "area is : 2.90\n",
      "\n"
     ]
    }
   ],
   "source": [
    "side1 = int(input(\"Enter side1: \"))\n",
    "side2 = int(input(\"Enter side2: \"))\n",
    "side3 = int(input(\"Enter side3: \"))\n",
    "\n",
    "def check_rt():\n",
    "    if(side1 ** 2 + side2 ** 2 == side3**2):\n",
    "        print(\"It is rt angle triangle\")\n",
    "\n",
    "    else:\n",
    "        print(\"It is not rt angle triangle\")\n",
    "\n",
    "def area():\n",
    "    s = (side1+side2+side3)/2\n",
    "    a = (s*(s-side1)*(s-side2)*(s-side3)) ** 0.5\n",
    "    print(\"area is : %0.2f\" %a)\n",
    "\n",
    "    print()\n",
    "\n",
    "    \n",
    "check_rt()\n",
    "area()"
   ]
  }
 ],
 "metadata": {
  "kernelspec": {
   "display_name": "Python 3 (ipykernel)",
   "language": "python",
   "name": "python3"
  },
  "language_info": {
   "codemirror_mode": {
    "name": "ipython",
    "version": 3
   },
   "file_extension": ".py",
   "mimetype": "text/x-python",
   "name": "python",
   "nbconvert_exporter": "python",
   "pygments_lexer": "ipython3",
   "version": "3.9.12"
  }
 },
 "nbformat": 4,
 "nbformat_minor": 5
}
