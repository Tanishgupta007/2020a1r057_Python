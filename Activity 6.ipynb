{
 "cells": [
  {
   "cell_type": "code",
   "execution_count": 9,
   "id": "dbe7878c",
   "metadata": {},
   "outputs": [
    {
     "name": "stdout",
     "output_type": "stream",
     "text": [
      "How Many Students you Want To Input?2\n",
      "Enter Roll No:1\n",
      "Enter Name:Tanish Gupta\n",
      "Enter Physics Marks:99\n",
      "Enter Chemistry Marks:88\n",
      "Enter Maths Marks:77\n",
      "Enter Roll No:2\n",
      "Enter Name:Yuvraj\n",
      "Enter Physics Marks:77\n",
      "Enter Chemistry Marks:66\n",
      "Enter Maths Marks:55\n",
      "Enter Roll Number you Want Search?1\n",
      "1 Tanish Gupta 88.0\n"
     ]
    }
   ],
   "source": [
    "class Student:\n",
    "    def GetStudent(self):\n",
    "        self.rollno = input(\"Enter Roll No:\")\n",
    "        self.name = input(\"Enter Name:\")\n",
    "        self.physicsMarks = int(input(\"Enter Physics Marks:\"))\n",
    "        self.chemistyMarks = int(input(\"Enter Chemistry Marks:\"))\n",
    "        self.mathMarks = int(input(\"Enter Maths Marks:\"))\n",
    "\n",
    "        return(self.rollno)\n",
    "\n",
    "    def PutStudent(self):\n",
    "        print(self.rollno,self.name,((self.physicsMarks+self.chemistyMarks+self.mathMarks)/3))\n",
    "    \n",
    "    def Search(self,min,max):\n",
    "            per = (self.physicsMarks + self.mathMarks + self.chemistyMarks)/3\n",
    "            if(per>=min and per<=max): \n",
    "                return True\n",
    "            else:\n",
    "                return False\n",
    "\n",
    "studentDict = dict()\n",
    "n = int(input(\"How Many Students you Want To Input?\"))\n",
    "for i in range(n):\n",
    "    S = Student()\n",
    "    rollno = S.GetStudent()\n",
    "    studentDict.setdefault(rollno,S)\n",
    "\n",
    "rollno = input(\"Enter Roll Number you Want Search?\")\n",
    "S = studentDict.get(rollno,\"Not Found!\")\n",
    "\n",
    "if(isinstance(S,Student)):\n",
    "    S.PutStudent()\n",
    "else:\n",
    "    print(S)\n",
    "    print(\"All students who scored more that 60 percentage are : \")\n",
    "    gradeAStudent = list(filter(lambda S:S.Search(60,100),studentDict.values()))\n",
    "    if(len(gradeAStudent) == 0):\n",
    "        print(\"Record Not Found!\")\n",
    "    else:\n",
    "        for S in gradeAStudent:\n",
    "            S.PutStudent()"
   ]
  },
  {
   "cell_type": "code",
   "execution_count": null,
   "id": "147b343a",
   "metadata": {},
   "outputs": [],
   "source": []
  },
  {
   "cell_type": "code",
   "execution_count": null,
   "id": "1234e102",
   "metadata": {},
   "outputs": [],
   "source": []
  }
 ],
 "metadata": {
  "kernelspec": {
   "display_name": "Python 3 (ipykernel)",
   "language": "python",
   "name": "python3"
  },
  "language_info": {
   "codemirror_mode": {
    "name": "ipython",
    "version": 3
   },
   "file_extension": ".py",
   "mimetype": "text/x-python",
   "name": "python",
   "nbconvert_exporter": "python",
   "pygments_lexer": "ipython3",
   "version": "3.9.12"
  }
 },
 "nbformat": 4,
 "nbformat_minor": 5
}
