{
 "cells": [
  {
   "cell_type": "markdown",
   "id": "32a4b90b",
   "metadata": {},
   "source": [
    "# Celsius to Fahrenheit"
   ]
  },
  {
   "cell_type": "code",
   "execution_count": 7,
   "id": "e9ae6e52",
   "metadata": {},
   "outputs": [
    {
     "name": "stdout",
     "output_type": "stream",
     "text": [
      "40.00 Celsius is equivalent to: 104.00 Fahrenheit\n"
     ]
    }
   ],
   "source": [
    "celsius = 40\n",
    "\n",
    "fahrenheit = (celsius * 1.8) + 32\n",
    "\n",
    "# printing the result\n",
    "print(\"%.2f Celsius is equivalent to: %.2f Fahrenheit\" %(celsius,fahrenheit))"
   ]
  },
  {
   "cell_type": "markdown",
   "id": "83d08559",
   "metadata": {},
   "source": [
    "# Celsius to Fahrenheit: Taking Input from user"
   ]
  },
  {
   "cell_type": "code",
   "execution_count": 12,
   "id": "663bad52",
   "metadata": {},
   "outputs": [
    {
     "name": "stdout",
     "output_type": "stream",
     "text": [
      "Enter the temperature: 40\n",
      "40.00 Celsius is equivalent to: 104.00 Fahrenheit\n"
     ]
    }
   ],
   "source": [
    "celsius = int(input(\"Enter the temperature: \"))\n",
    "\n",
    "fahrenheit = (celsius * 1.8) + 32\n",
    "\n",
    "# printing the result\n",
    "print(\"%.2f Celsius is equivalent to: %.2f Fahrenheit\" %(celsius,fahrenheit))"
   ]
  },
  {
   "cell_type": "markdown",
   "id": "76f697ff",
   "metadata": {},
   "source": [
    "# Converting the given program from statement to function for Celsius to Fahrenheit conversion."
   ]
  },
  {
   "cell_type": "code",
   "execution_count": 20,
   "id": "4ca12f2b",
   "metadata": {},
   "outputs": [
    {
     "name": "stdout",
     "output_type": "stream",
     "text": [
      "Enter the temperature in Celsius: 40\n",
      "Temperature in Celsius = 40.00\n",
      "Temperature in Fahrenheit = 104.00\n"
     ]
    }
   ],
   "source": [
    "def ConvertCtoF(C):# Convert the Celsius into Fahrenheit\n",
    "    F = (C* 1.8) + 32\n",
    "    return F\n",
    "\n",
    "C = float(input(\"Enter the temperature in Celsius: \"))\n",
    "\n",
    "print(\"Temperature in Celsius = {:.2f}\".format(C))\n",
    "print(\"Temperature in Fahrenheit = {:.2f}\".format(ConvertCtoF(C)))"
   ]
  },
  {
   "cell_type": "markdown",
   "id": "42e6f585",
   "metadata": {},
   "source": [
    "# Converting the given program from statement to function for Fahrenheit to Celsius conversion."
   ]
  },
  {
   "cell_type": "code",
   "execution_count": 24,
   "id": "4b122fc4",
   "metadata": {},
   "outputs": [
    {
     "name": "stdout",
     "output_type": "stream",
     "text": [
      "Enter the temperature in Fahrenheit: 104\n",
      "Temperature in Fahrenheit = 104.00\n",
      "Temperature in Celsius = 40.00\n"
     ]
    }
   ],
   "source": [
    "def ConvertFtoC(F):\n",
    "    C = (5 / 9) * (F - 32)\n",
    "    return C\n",
    "\n",
    "F = float(input(\"Enter the temperature in Fahrenheit: \"))\n",
    "\n",
    "print(\"Temperature in Fahrenheit = {:.2f}\".format(F))\n",
    "print(\"Temperature in Celsius = {:.2f}\".format(ConvertFtoC(F)))"
   ]
  },
  {
   "cell_type": "code",
   "execution_count": null,
   "id": "ada83fc2",
   "metadata": {},
   "outputs": [],
   "source": []
  },
  {
   "cell_type": "code",
   "execution_count": null,
   "id": "b7b569f3",
   "metadata": {},
   "outputs": [],
   "source": []
  }
 ],
 "metadata": {
  "kernelspec": {
   "display_name": "Python 3 (ipykernel)",
   "language": "python",
   "name": "python3"
  },
  "language_info": {
   "codemirror_mode": {
    "name": "ipython",
    "version": 3
   },
   "file_extension": ".py",
   "mimetype": "text/x-python",
   "name": "python",
   "nbconvert_exporter": "python",
   "pygments_lexer": "ipython3",
   "version": "3.9.12"
  }
 },
 "nbformat": 4,
 "nbformat_minor": 5
}
